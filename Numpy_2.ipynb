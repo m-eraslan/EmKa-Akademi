{
  "nbformat": 4,
  "nbformat_minor": 0,
  "metadata": {
    "colab": {
      "provenance": []
    },
    "kernelspec": {
      "name": "python3",
      "display_name": "Python 3"
    },
    "language_info": {
      "name": "python"
    }
  },
  "cells": [
    {
      "cell_type": "code",
      "source": [
        "import numpy as np"
      ],
      "metadata": {
        "id": "XEqjWcnjbNcK"
      },
      "execution_count": 1,
      "outputs": []
    },
    {
      "cell_type": "markdown",
      "source": [
        "1.Soru:\n",
        "0-29 arası(29 dahil, toplam 30 tam sayı) tam sayılardan oluşan bir boyutlu bir array oluşturun ardından bu array'in shape'ini (15,2) şeklinde güncelleyip 2 boyutlu hale getirin."
      ],
      "metadata": {
        "id": "-YpZSvzmr2D4"
      }
    },
    {
      "cell_type": "code",
      "source": [
        "arr1=np.arange(30)\n",
        "arr1"
      ],
      "metadata": {
        "colab": {
          "base_uri": "https://localhost:8080/"
        },
        "id": "7Vxew2FsrjW5",
        "outputId": "925b0fa8-db9f-45bc-fcf8-8e9fdd68ae6c"
      },
      "execution_count": 12,
      "outputs": [
        {
          "output_type": "execute_result",
          "data": {
            "text/plain": [
              "array([ 0,  1,  2,  3,  4,  5,  6,  7,  8,  9, 10, 11, 12, 13, 14, 15, 16,\n",
              "       17, 18, 19, 20, 21, 22, 23, 24, 25, 26, 27, 28, 29])"
            ]
          },
          "metadata": {},
          "execution_count": 12
        }
      ]
    },
    {
      "cell_type": "code",
      "source": [
        "arr1.reshape(15,2)\n"
      ],
      "metadata": {
        "colab": {
          "base_uri": "https://localhost:8080/"
        },
        "id": "_iQvazSHtQkn",
        "outputId": "7a57b954-a306-4237-df0b-6140a28a8aa3"
      },
      "execution_count": 14,
      "outputs": [
        {
          "output_type": "execute_result",
          "data": {
            "text/plain": [
              "array([[ 0,  1],\n",
              "       [ 2,  3],\n",
              "       [ 4,  5],\n",
              "       [ 6,  7],\n",
              "       [ 8,  9],\n",
              "       [10, 11],\n",
              "       [12, 13],\n",
              "       [14, 15],\n",
              "       [16, 17],\n",
              "       [18, 19],\n",
              "       [20, 21],\n",
              "       [22, 23],\n",
              "       [24, 25],\n",
              "       [26, 27],\n",
              "       [28, 29]])"
            ]
          },
          "metadata": {},
          "execution_count": 14
        }
      ]
    },
    {
      "cell_type": "markdown",
      "source": [
        "2.Soru:\n",
        "60 adet rastgele tam sayı verilerinden oluşan bir boyutlu bir array oluşturun. Devamında bu array'i istediğiniz shapelerde 3 boyutlu hale getirin ve son durumda oluşan array'in boyutunu ve shape'ini kontrol edin."
      ],
      "metadata": {
        "id": "Zto7jC7DtC3M"
      }
    },
    {
      "cell_type": "code",
      "source": [
        "arr2=np.random.randint(0,100,60)\n",
        "arr2"
      ],
      "metadata": {
        "colab": {
          "base_uri": "https://localhost:8080/"
        },
        "id": "ou3eVJDztIjn",
        "outputId": "e10268b9-2c43-4665-aa5c-9f6ba2894fe2"
      },
      "execution_count": 15,
      "outputs": [
        {
          "output_type": "execute_result",
          "data": {
            "text/plain": [
              "array([86, 57, 39, 36, 74, 33, 20, 31, 87, 89, 73, 48, 79, 36, 24, 16, 73,\n",
              "       69,  4, 37, 69, 26, 77, 77,  2, 37, 92, 87, 76, 47, 80, 57, 40, 18,\n",
              "       51, 17, 85, 54, 58, 27, 43, 96, 43, 72,  6, 51, 55, 75, 87, 38, 14,\n",
              "       90, 53, 63, 78, 30, 85, 45, 26, 54])"
            ]
          },
          "metadata": {},
          "execution_count": 15
        }
      ]
    },
    {
      "cell_type": "code",
      "source": [
        "arr2=arr2.reshape(3,5,-1)\n",
        "arr2"
      ],
      "metadata": {
        "colab": {
          "base_uri": "https://localhost:8080/"
        },
        "id": "4SNuWoYeth2T",
        "outputId": "8981d055-83b4-433c-855b-7c568f4994c1"
      },
      "execution_count": 18,
      "outputs": [
        {
          "output_type": "execute_result",
          "data": {
            "text/plain": [
              "array([[[86, 57, 39, 36],\n",
              "        [74, 33, 20, 31],\n",
              "        [87, 89, 73, 48],\n",
              "        [79, 36, 24, 16],\n",
              "        [73, 69,  4, 37]],\n",
              "\n",
              "       [[69, 26, 77, 77],\n",
              "        [ 2, 37, 92, 87],\n",
              "        [76, 47, 80, 57],\n",
              "        [40, 18, 51, 17],\n",
              "        [85, 54, 58, 27]],\n",
              "\n",
              "       [[43, 96, 43, 72],\n",
              "        [ 6, 51, 55, 75],\n",
              "        [87, 38, 14, 90],\n",
              "        [53, 63, 78, 30],\n",
              "        [85, 45, 26, 54]]])"
            ]
          },
          "metadata": {},
          "execution_count": 18
        }
      ]
    },
    {
      "cell_type": "code",
      "source": [
        "arr2.shape"
      ],
      "metadata": {
        "colab": {
          "base_uri": "https://localhost:8080/"
        },
        "id": "s5qw9wNKtpg-",
        "outputId": "a951ad9f-048d-4aa9-b296-d25aa2bf2c7d"
      },
      "execution_count": 19,
      "outputs": [
        {
          "output_type": "execute_result",
          "data": {
            "text/plain": [
              "(3, 5, 4)"
            ]
          },
          "metadata": {},
          "execution_count": 19
        }
      ]
    },
    {
      "cell_type": "code",
      "source": [
        "arr2.ndim"
      ],
      "metadata": {
        "colab": {
          "base_uri": "https://localhost:8080/"
        },
        "id": "ilbx5DI2t_Qf",
        "outputId": "947d99bb-c9ed-4a8f-e58d-8e32607ff916"
      },
      "execution_count": 21,
      "outputs": [
        {
          "output_type": "execute_result",
          "data": {
            "text/plain": [
              "3"
            ]
          },
          "metadata": {},
          "execution_count": 21
        }
      ]
    },
    {
      "cell_type": "markdown",
      "source": [
        "3.Soru:\n",
        "20 elemanlı ve sadece rakamlardan oluşan iki boyutlu bir array oluşturun. Ardından bu array'i düzleştirin ve tek boyutlu hale getirin ve son durumda oluşan array'in boyutunu ve shape'ini kontrol edin."
      ],
      "metadata": {
        "id": "R9zY4tTRujNP"
      }
    },
    {
      "cell_type": "code",
      "source": [
        "arr3=np.random.randint(0,100,size=(4,5))\n",
        "arr3"
      ],
      "metadata": {
        "colab": {
          "base_uri": "https://localhost:8080/"
        },
        "id": "SYkGg_4CunYK",
        "outputId": "dcdd9b55-1128-426e-9152-3764eae31749"
      },
      "execution_count": 24,
      "outputs": [
        {
          "output_type": "execute_result",
          "data": {
            "text/plain": [
              "array([[10, 20, 31, 24, 24],\n",
              "       [57, 78, 25, 61, 60],\n",
              "       [38, 31, 61, 89, 12],\n",
              "       [ 1, 83, 25, 54, 57]])"
            ]
          },
          "metadata": {},
          "execution_count": 24
        }
      ]
    },
    {
      "cell_type": "code",
      "source": [
        "arr=arr3.reshape(-1)\n",
        "arr"
      ],
      "metadata": {
        "colab": {
          "base_uri": "https://localhost:8080/"
        },
        "id": "TX3drivUuykT",
        "outputId": "30aed07b-8bcd-46e5-d746-02f986cf9d46"
      },
      "execution_count": 25,
      "outputs": [
        {
          "output_type": "execute_result",
          "data": {
            "text/plain": [
              "array([10, 20, 31, 24, 24, 57, 78, 25, 61, 60, 38, 31, 61, 89, 12,  1, 83,\n",
              "       25, 54, 57])"
            ]
          },
          "metadata": {},
          "execution_count": 25
        }
      ]
    },
    {
      "cell_type": "markdown",
      "source": [
        "4.Soru:\n",
        "İstediğiniz herhangi elemanlardan oluşan 2 Boyutlu bir array oluşturun. Oluşturduğunuz bu 2 boyutlu array'in içindeki bütün elemanları hem yavaş yol olan for döngüsüyle hem de daha hızlı yol olan uygun NumPy metoduyla tek tek dönerek ekrana yazdırın."
      ],
      "metadata": {
        "id": "EsF7FoJevGfs"
      }
    },
    {
      "cell_type": "code",
      "source": [
        "arr4=np.random.randint(0,100,size=(3,3,3))\n",
        "arr4"
      ],
      "metadata": {
        "colab": {
          "base_uri": "https://localhost:8080/"
        },
        "id": "hwt4VmMZvK73",
        "outputId": "1e470967-f745-4d28-aaa4-4f148945ae97"
      },
      "execution_count": 34,
      "outputs": [
        {
          "output_type": "execute_result",
          "data": {
            "text/plain": [
              "array([[[34, 94, 38],\n",
              "        [96, 32, 20],\n",
              "        [38, 78, 65]],\n",
              "\n",
              "       [[68, 85, 39],\n",
              "        [66, 40, 27],\n",
              "        [ 5, 57, 74]],\n",
              "\n",
              "       [[25, 79, 70],\n",
              "        [ 1, 27,  5],\n",
              "        [42, 21, 92]]])"
            ]
          },
          "metadata": {},
          "execution_count": 34
        }
      ]
    },
    {
      "cell_type": "code",
      "source": [
        "for i in arr4:\n",
        "  for j in i:\n",
        "      for a in j:\n",
        "        print(a)"
      ],
      "metadata": {
        "colab": {
          "base_uri": "https://localhost:8080/"
        },
        "id": "1i_rk3ifvV5n",
        "outputId": "0851fec9-2c08-451a-e71f-82ac20330703"
      },
      "execution_count": 35,
      "outputs": [
        {
          "output_type": "stream",
          "name": "stdout",
          "text": [
            "34\n",
            "94\n",
            "38\n",
            "96\n",
            "32\n",
            "20\n",
            "38\n",
            "78\n",
            "65\n",
            "68\n",
            "85\n",
            "39\n",
            "66\n",
            "40\n",
            "27\n",
            "5\n",
            "57\n",
            "74\n",
            "25\n",
            "79\n",
            "70\n",
            "1\n",
            "27\n",
            "5\n",
            "42\n",
            "21\n",
            "92\n"
          ]
        }
      ]
    },
    {
      "cell_type": "code",
      "source": [
        "for i in np.nditer(arr4):\n",
        "  print(i)"
      ],
      "metadata": {
        "colab": {
          "base_uri": "https://localhost:8080/"
        },
        "id": "EHkwYbhmvlBb",
        "outputId": "6fcd0e14-f3db-47c2-a81b-41a825c67a43"
      },
      "execution_count": 36,
      "outputs": [
        {
          "output_type": "stream",
          "name": "stdout",
          "text": [
            "34\n",
            "94\n",
            "38\n",
            "96\n",
            "32\n",
            "20\n",
            "38\n",
            "78\n",
            "65\n",
            "68\n",
            "85\n",
            "39\n",
            "66\n",
            "40\n",
            "27\n",
            "5\n",
            "57\n",
            "74\n",
            "25\n",
            "79\n",
            "70\n",
            "1\n",
            "27\n",
            "5\n",
            "42\n",
            "21\n",
            "92\n"
          ]
        }
      ]
    },
    {
      "cell_type": "markdown",
      "source": [
        "5.Soru:\n",
        "5,10,15,20,25,30 değerlerinden oluşan bir boyutlu bir array ve\n",
        "\n",
        "   1,2,3,4,5,6 değerlerinden oluşan başka bir boyutlu bir array oluşturun.\n",
        "   Bu arraylerinin elemanlarına kendi aralarında 4 işlem uygulayın. İki arrayinde 1.indexindekiler toplansın/çıkartılsın/çarpılsın/bölünsün gibi."
      ],
      "metadata": {
        "id": "UpOPHdmCwTUp"
      }
    },
    {
      "cell_type": "code",
      "source": [
        "arr5=np.arange(5,31,5)\n",
        "arr6=np.arange(1,7)"
      ],
      "metadata": {
        "id": "3JliH3bfwZoT"
      },
      "execution_count": 44,
      "outputs": []
    },
    {
      "cell_type": "code",
      "source": [
        "arr5+arr6"
      ],
      "metadata": {
        "colab": {
          "base_uri": "https://localhost:8080/"
        },
        "id": "EKj-FJhbxGDH",
        "outputId": "cb0d8aa1-825a-4e23-87f5-83f7de0b5d54"
      },
      "execution_count": 45,
      "outputs": [
        {
          "output_type": "execute_result",
          "data": {
            "text/plain": [
              "array([ 6, 12, 18, 24, 30, 36])"
            ]
          },
          "metadata": {},
          "execution_count": 45
        }
      ]
    },
    {
      "cell_type": "code",
      "source": [
        "arr5-arr6"
      ],
      "metadata": {
        "colab": {
          "base_uri": "https://localhost:8080/"
        },
        "id": "qIc8AOhFxcyn",
        "outputId": "636657eb-f4a8-4eed-f93b-e733dadedde6"
      },
      "execution_count": 46,
      "outputs": [
        {
          "output_type": "execute_result",
          "data": {
            "text/plain": [
              "array([ 4,  8, 12, 16, 20, 24])"
            ]
          },
          "metadata": {},
          "execution_count": 46
        }
      ]
    },
    {
      "cell_type": "code",
      "source": [
        "arr5*arr6"
      ],
      "metadata": {
        "colab": {
          "base_uri": "https://localhost:8080/"
        },
        "id": "imwm8MNyxfFb",
        "outputId": "82e56d18-3c2c-4f88-b681-94e5fffafce2"
      },
      "execution_count": 47,
      "outputs": [
        {
          "output_type": "execute_result",
          "data": {
            "text/plain": [
              "array([  5,  20,  45,  80, 125, 180])"
            ]
          },
          "metadata": {},
          "execution_count": 47
        }
      ]
    },
    {
      "cell_type": "code",
      "source": [
        "arr5/arr6"
      ],
      "metadata": {
        "colab": {
          "base_uri": "https://localhost:8080/"
        },
        "id": "7QxRwuUlxg6j",
        "outputId": "b490d82d-d398-41bf-813a-57fe9409f2ce"
      },
      "execution_count": 50,
      "outputs": [
        {
          "output_type": "execute_result",
          "data": {
            "text/plain": [
              "array([5., 5., 5., 5., 5., 5.])"
            ]
          },
          "metadata": {},
          "execution_count": 50
        }
      ]
    },
    {
      "cell_type": "markdown",
      "source": [
        "6.Soru:\n",
        "0-100 arası rastgele 10 tam sayıdan oluşan bir array oluşturun ve oluşturulan arrayin sum/mean/max/var/std değerlerini inceleyin."
      ],
      "metadata": {
        "id": "nCAtx-kSx0-R"
      }
    },
    {
      "cell_type": "code",
      "source": [
        "arr7=np.random.randint(0,100,10)\n",
        "arr7"
      ],
      "metadata": {
        "colab": {
          "base_uri": "https://localhost:8080/"
        },
        "id": "B8jPkV0Gx6gg",
        "outputId": "5f7bb92b-ebba-4fe7-ba16-7459164fbdfd"
      },
      "execution_count": 52,
      "outputs": [
        {
          "output_type": "execute_result",
          "data": {
            "text/plain": [
              "array([43, 69, 54, 61, 67, 31, 14, 28,  8,  5])"
            ]
          },
          "metadata": {},
          "execution_count": 52
        }
      ]
    },
    {
      "cell_type": "code",
      "source": [
        "arr7.sum()"
      ],
      "metadata": {
        "colab": {
          "base_uri": "https://localhost:8080/"
        },
        "id": "ZXroAR-Kx_Kg",
        "outputId": "a83d43a0-791e-4ad7-f301-31414fbb8866"
      },
      "execution_count": 53,
      "outputs": [
        {
          "output_type": "execute_result",
          "data": {
            "text/plain": [
              "380"
            ]
          },
          "metadata": {},
          "execution_count": 53
        }
      ]
    },
    {
      "cell_type": "code",
      "source": [
        "arr7.mean()"
      ],
      "metadata": {
        "colab": {
          "base_uri": "https://localhost:8080/"
        },
        "id": "tnI-b9aqyHVH",
        "outputId": "cf8c0ab0-cc69-459e-9a70-84ebe29f7728"
      },
      "execution_count": 54,
      "outputs": [
        {
          "output_type": "execute_result",
          "data": {
            "text/plain": [
              "38.0"
            ]
          },
          "metadata": {},
          "execution_count": 54
        }
      ]
    },
    {
      "cell_type": "code",
      "source": [
        "arr7.max()"
      ],
      "metadata": {
        "colab": {
          "base_uri": "https://localhost:8080/"
        },
        "id": "sKqc7s2dyI7K",
        "outputId": "8b79c17b-08a7-456d-e205-9ee49977be77"
      },
      "execution_count": 55,
      "outputs": [
        {
          "output_type": "execute_result",
          "data": {
            "text/plain": [
              "69"
            ]
          },
          "metadata": {},
          "execution_count": 55
        }
      ]
    },
    {
      "cell_type": "code",
      "source": [
        "arr7.var()"
      ],
      "metadata": {
        "colab": {
          "base_uri": "https://localhost:8080/"
        },
        "id": "9hRp4uNPyK8j",
        "outputId": "e1db903d-79b2-4362-f079-107fed499f8d"
      },
      "execution_count": 56,
      "outputs": [
        {
          "output_type": "execute_result",
          "data": {
            "text/plain": [
              "532.6"
            ]
          },
          "metadata": {},
          "execution_count": 56
        }
      ]
    },
    {
      "cell_type": "code",
      "source": [
        "arr7.std()"
      ],
      "metadata": {
        "colab": {
          "base_uri": "https://localhost:8080/"
        },
        "id": "7pPW4270yNSX",
        "outputId": "bcb76a81-0358-42e0-bd7d-37bb1d09801d"
      },
      "execution_count": 57,
      "outputs": [
        {
          "output_type": "execute_result",
          "data": {
            "text/plain": [
              "23.078128173662613"
            ]
          },
          "metadata": {},
          "execution_count": 57
        }
      ]
    },
    {
      "cell_type": "markdown",
      "source": [
        "7.Soru:\n",
        "0-20 arası(20 dahil değil) tam sayılardan oluşan ve 500-530(530 dahil) arası tam sayılardan oluşan 2 array oluşturun. Ardından bu iki array'i concatenate ederek ekrana yazdırın."
      ],
      "metadata": {
        "id": "ecc4t2vcyQKJ"
      }
    },
    {
      "cell_type": "code",
      "source": [
        "arr8=np.random.randint(0,20,10)\n",
        "arr8"
      ],
      "metadata": {
        "colab": {
          "base_uri": "https://localhost:8080/"
        },
        "id": "IkEV3X-MyThQ",
        "outputId": "33c65fdf-e73e-42fa-b2e0-a353b99509ae"
      },
      "execution_count": 62,
      "outputs": [
        {
          "output_type": "execute_result",
          "data": {
            "text/plain": [
              "array([ 1,  5,  7,  8,  0,  0, 14,  8, 14,  4])"
            ]
          },
          "metadata": {},
          "execution_count": 62
        }
      ]
    },
    {
      "cell_type": "code",
      "source": [
        "arr9=np.random.randint(500,531,10)\n",
        "arr9"
      ],
      "metadata": {
        "colab": {
          "base_uri": "https://localhost:8080/"
        },
        "id": "JVJe3Nb0y2zK",
        "outputId": "3e9c53c8-2028-4da7-d249-ed7c11f137c0"
      },
      "execution_count": 63,
      "outputs": [
        {
          "output_type": "execute_result",
          "data": {
            "text/plain": [
              "array([508, 520, 525, 527, 530, 518, 512, 508, 513, 525])"
            ]
          },
          "metadata": {},
          "execution_count": 63
        }
      ]
    },
    {
      "cell_type": "code",
      "source": [
        "np.concatenate([arr8,arr9],axis=0)"
      ],
      "metadata": {
        "colab": {
          "base_uri": "https://localhost:8080/"
        },
        "id": "r1i8CMhyydek",
        "outputId": "664989d3-09fd-4c12-a1c0-c270548f5a18"
      },
      "execution_count": 66,
      "outputs": [
        {
          "output_type": "execute_result",
          "data": {
            "text/plain": [
              "array([  1,   5,   7,   8,   0,   0,  14,   8,  14,   4, 508, 520, 525,\n",
              "       527, 530, 518, 512, 508, 513, 525])"
            ]
          },
          "metadata": {},
          "execution_count": 66
        }
      ]
    },
    {
      "cell_type": "markdown",
      "source": [
        "8.Soru:\n",
        "15-50(50 dahil) arası tam sayılardan oluşan bir array oluşturun. Daha sonra 10-100 arası(100 dahil) tam sayılardan oluşan 2.bir array oluşturun. Bu 2 arrayi concatanate ederek 3.bir array oluşturun ve bu array'in 25.index ile 50.index'i(50 dahil) arasındaki değerlerini 888 yapın."
      ],
      "metadata": {
        "id": "u-lDfSfAy-5p"
      }
    },
    {
      "cell_type": "code",
      "source": [
        "arr10=np.random.randint(15,51,20)\n",
        "arr10"
      ],
      "metadata": {
        "colab": {
          "base_uri": "https://localhost:8080/"
        },
        "id": "vhQ0X19iystc",
        "outputId": "5f211580-c656-4c95-b3b7-219219e817a3"
      },
      "execution_count": 67,
      "outputs": [
        {
          "output_type": "execute_result",
          "data": {
            "text/plain": [
              "array([25, 36, 46, 23, 18, 42, 18, 26, 45, 38, 47, 23, 43, 17, 41, 33, 22,\n",
              "       32, 39, 37])"
            ]
          },
          "metadata": {},
          "execution_count": 67
        }
      ]
    },
    {
      "cell_type": "code",
      "source": [
        "arr11=np.random.randint(10,101,20)\n",
        "arr11"
      ],
      "metadata": {
        "colab": {
          "base_uri": "https://localhost:8080/"
        },
        "id": "uXt5FOCLzKL0",
        "outputId": "7736af3b-9069-4976-8f38-d930b42bde78"
      },
      "execution_count": 68,
      "outputs": [
        {
          "output_type": "execute_result",
          "data": {
            "text/plain": [
              "array([ 85,  91,  88,  86,  63,  52,  98,  63,  61,  24, 100,  14,  68,\n",
              "        91,  89,  99,  70,  37,  97,  31])"
            ]
          },
          "metadata": {},
          "execution_count": 68
        }
      ]
    },
    {
      "cell_type": "code",
      "source": [
        "arr_total=np.concatenate([arr10,arr11],axis=0)\n",
        "arr_total"
      ],
      "metadata": {
        "colab": {
          "base_uri": "https://localhost:8080/"
        },
        "id": "EzOnTZLSzQBo",
        "outputId": "4bfe400c-bcfe-4c9b-c72d-21bc41b371fd"
      },
      "execution_count": 71,
      "outputs": [
        {
          "output_type": "execute_result",
          "data": {
            "text/plain": [
              "array([ 25,  36,  46,  23,  18,  42,  18,  26,  45,  38,  47,  23,  43,\n",
              "        17,  41,  33,  22,  32,  39,  37,  85,  91,  88,  86,  63,  52,\n",
              "        98,  63,  61,  24, 100,  14,  68,  91,  89,  99,  70,  37,  97,\n",
              "        31])"
            ]
          },
          "metadata": {},
          "execution_count": 71
        }
      ]
    },
    {
      "cell_type": "code",
      "source": [
        "arr_total[25:51]=888\n",
        "arr_total"
      ],
      "metadata": {
        "colab": {
          "base_uri": "https://localhost:8080/"
        },
        "id": "wIELSjwDDilV",
        "outputId": "1de5c69c-5006-4b65-f8c7-00b08f5990c5"
      },
      "execution_count": 90,
      "outputs": [
        {
          "output_type": "execute_result",
          "data": {
            "text/plain": [
              "array([ 25,  36,  46,  23,  18,  42,  18,  26,  45,  38,  47,  23,  43,\n",
              "        17,  41,  33,  22,  32,  39,  37,  85,  91,  88,  86,  63, 888,\n",
              "       888, 888, 888, 888, 888, 888, 888, 888, 888, 888, 888, 888, 888,\n",
              "       888])"
            ]
          },
          "metadata": {},
          "execution_count": 90
        }
      ]
    },
    {
      "cell_type": "markdown",
      "source": [
        "9.Soru:0-40(40 dahil değil) arası değerlerden oluşan (8,5) shape'inde 2 boyutlu bir array ve  320-360(360 dahil değil) değerlerinden oluşan (8,5) shape'inde 2 boyutlubaşka bir array oluşturun. Devamında bu iki array'i hem axis = 0'da hem de axis = 1'de concatenate ederek farkı karşılaştırın.\n"
      ],
      "metadata": {
        "id": "QW691GAVzpZO"
      }
    },
    {
      "cell_type": "code",
      "source": [
        "arr12=np.random.randint(0,40,size=(8,5))\n",
        "arr12"
      ],
      "metadata": {
        "colab": {
          "base_uri": "https://localhost:8080/"
        },
        "id": "Jd8FmstMzrUr",
        "outputId": "bd76a6a2-db8a-46ca-d7ed-7a5a8a3b09d6"
      },
      "execution_count": 72,
      "outputs": [
        {
          "output_type": "execute_result",
          "data": {
            "text/plain": [
              "array([[ 9, 37, 22,  8,  6],\n",
              "       [34,  1, 14, 17,  8],\n",
              "       [12,  4, 36, 15, 12],\n",
              "       [27, 14,  2, 34, 29],\n",
              "       [20,  8, 24, 28,  0],\n",
              "       [25, 12,  5, 29, 38],\n",
              "       [11, 36, 35, 35, 13],\n",
              "       [25, 34,  1, 28, 36]])"
            ]
          },
          "metadata": {},
          "execution_count": 72
        }
      ]
    },
    {
      "cell_type": "code",
      "source": [
        "arr13=np.random.randint(320,361,size=(8,5))\n",
        "arr13"
      ],
      "metadata": {
        "colab": {
          "base_uri": "https://localhost:8080/"
        },
        "id": "mFHvNI-vz1ax",
        "outputId": "5b915171-e296-4e2b-9230-5ddcdff2898c"
      },
      "execution_count": 73,
      "outputs": [
        {
          "output_type": "execute_result",
          "data": {
            "text/plain": [
              "array([[326, 324, 320, 358, 353],\n",
              "       [338, 357, 355, 338, 320],\n",
              "       [342, 358, 360, 352, 324],\n",
              "       [336, 355, 339, 347, 330],\n",
              "       [340, 353, 338, 337, 345],\n",
              "       [358, 354, 329, 337, 327],\n",
              "       [338, 337, 338, 337, 329],\n",
              "       [324, 342, 337, 326, 352]])"
            ]
          },
          "metadata": {},
          "execution_count": 73
        }
      ]
    },
    {
      "cell_type": "code",
      "source": [
        "np.concatenate([arr12,arr13],axis=0)"
      ],
      "metadata": {
        "colab": {
          "base_uri": "https://localhost:8080/"
        },
        "id": "nj7wFCXdz-a0",
        "outputId": "b7e82753-099c-4690-a57c-60af00464de7"
      },
      "execution_count": 75,
      "outputs": [
        {
          "output_type": "execute_result",
          "data": {
            "text/plain": [
              "array([[  9,  37,  22,   8,   6],\n",
              "       [ 34,   1,  14,  17,   8],\n",
              "       [ 12,   4,  36,  15,  12],\n",
              "       [ 27,  14,   2,  34,  29],\n",
              "       [ 20,   8,  24,  28,   0],\n",
              "       [ 25,  12,   5,  29,  38],\n",
              "       [ 11,  36,  35,  35,  13],\n",
              "       [ 25,  34,   1,  28,  36],\n",
              "       [326, 324, 320, 358, 353],\n",
              "       [338, 357, 355, 338, 320],\n",
              "       [342, 358, 360, 352, 324],\n",
              "       [336, 355, 339, 347, 330],\n",
              "       [340, 353, 338, 337, 345],\n",
              "       [358, 354, 329, 337, 327],\n",
              "       [338, 337, 338, 337, 329],\n",
              "       [324, 342, 337, 326, 352]])"
            ]
          },
          "metadata": {},
          "execution_count": 75
        }
      ]
    },
    {
      "cell_type": "code",
      "source": [
        "np.concatenate([arr12,arr13],axis=1)"
      ],
      "metadata": {
        "colab": {
          "base_uri": "https://localhost:8080/"
        },
        "id": "N_a1t8ra0JQB",
        "outputId": "e21ae8aa-721d-4809-c464-3ef02a785f9b"
      },
      "execution_count": 76,
      "outputs": [
        {
          "output_type": "execute_result",
          "data": {
            "text/plain": [
              "array([[  9,  37,  22,   8,   6, 326, 324, 320, 358, 353],\n",
              "       [ 34,   1,  14,  17,   8, 338, 357, 355, 338, 320],\n",
              "       [ 12,   4,  36,  15,  12, 342, 358, 360, 352, 324],\n",
              "       [ 27,  14,   2,  34,  29, 336, 355, 339, 347, 330],\n",
              "       [ 20,   8,  24,  28,   0, 340, 353, 338, 337, 345],\n",
              "       [ 25,  12,   5,  29,  38, 358, 354, 329, 337, 327],\n",
              "       [ 11,  36,  35,  35,  13, 338, 337, 338, 337, 329],\n",
              "       [ 25,  34,   1,  28,  36, 324, 342, 337, 326, 352]])"
            ]
          },
          "metadata": {},
          "execution_count": 76
        }
      ]
    },
    {
      "cell_type": "markdown",
      "source": [
        "10.Soru:\n",
        "9.Soruda oluşturduğunuz 2 array'i axis = 2'de concatenate etmeye çalışın. Ardından axis = 2'de stacklemeye(yığınlamaya) çalışın. İkisi arasındaki farkı karşılaştırın."
      ],
      "metadata": {
        "id": "dMvaeb7j0VRO"
      }
    },
    {
      "cell_type": "code",
      "source": [
        "arr=arr12.reshape(2,5,4)\n",
        "arr\n"
      ],
      "metadata": {
        "colab": {
          "base_uri": "https://localhost:8080/"
        },
        "id": "CKbf47TZ0TJi",
        "outputId": "d71bbbec-fbb5-41ad-999e-177e73efa1c6"
      },
      "execution_count": 84,
      "outputs": [
        {
          "output_type": "execute_result",
          "data": {
            "text/plain": [
              "array([[[ 9, 37, 22,  8],\n",
              "        [ 6, 34,  1, 14],\n",
              "        [17,  8, 12,  4],\n",
              "        [36, 15, 12, 27],\n",
              "        [14,  2, 34, 29]],\n",
              "\n",
              "       [[20,  8, 24, 28],\n",
              "        [ 0, 25, 12,  5],\n",
              "        [29, 38, 11, 36],\n",
              "        [35, 35, 13, 25],\n",
              "        [34,  1, 28, 36]]])"
            ]
          },
          "metadata": {},
          "execution_count": 84
        }
      ]
    },
    {
      "cell_type": "code",
      "source": [
        "arr1=arr13.reshape(2,5,4)\n",
        "arr1\n"
      ],
      "metadata": {
        "colab": {
          "base_uri": "https://localhost:8080/"
        },
        "id": "IPCU0464DA9Z",
        "outputId": "64c14f2a-d478-4952-cede-a8f3ce4b27a7"
      },
      "execution_count": 86,
      "outputs": [
        {
          "output_type": "execute_result",
          "data": {
            "text/plain": [
              "array([[[326, 324, 320, 358],\n",
              "        [353, 338, 357, 355],\n",
              "        [338, 320, 342, 358],\n",
              "        [360, 352, 324, 336],\n",
              "        [355, 339, 347, 330]],\n",
              "\n",
              "       [[340, 353, 338, 337],\n",
              "        [345, 358, 354, 329],\n",
              "        [337, 327, 338, 337],\n",
              "        [338, 337, 329, 324],\n",
              "        [342, 337, 326, 352]]])"
            ]
          },
          "metadata": {},
          "execution_count": 86
        }
      ]
    },
    {
      "cell_type": "code",
      "source": [
        "np.concatenate([arr,arr1],axis=2)"
      ],
      "metadata": {
        "colab": {
          "base_uri": "https://localhost:8080/"
        },
        "id": "WZIJfisWB8XG",
        "outputId": "93b2ae2a-71a1-433d-8576-9fdba48c6ba7"
      },
      "execution_count": 82,
      "outputs": [
        {
          "output_type": "execute_result",
          "data": {
            "text/plain": [
              "array([[[  9,  37,  22,   8, 326, 324, 320, 358],\n",
              "        [  6,  34,   1,  14, 353, 338, 357, 355],\n",
              "        [ 17,   8,  12,   4, 338, 320, 342, 358],\n",
              "        [ 36,  15,  12,  27, 360, 352, 324, 336],\n",
              "        [ 14,   2,  34,  29, 355, 339, 347, 330]],\n",
              "\n",
              "       [[ 20,   8,  24,  28, 340, 353, 338, 337],\n",
              "        [  0,  25,  12,   5, 345, 358, 354, 329],\n",
              "        [ 29,  38,  11,  36, 337, 327, 338, 337],\n",
              "        [ 35,  35,  13,  25, 338, 337, 329, 324],\n",
              "        [ 34,   1,  28,  36, 342, 337, 326, 352]]])"
            ]
          },
          "metadata": {},
          "execution_count": 82
        }
      ]
    },
    {
      "cell_type": "markdown",
      "source": [
        "11.Soru:\n",
        "[1, 20, 25, 4, 4, 5, 4, 4, 1, 6, 9, 12, 1, 5] değerlerinden oluşan bir boyutlu bir array oluşturun. Devamında bu array'in içinde değeri 5'e eşit olan değerlerin indexleri bulun."
      ],
      "metadata": {
        "id": "ydYxKwhYDOze"
      }
    },
    {
      "cell_type": "code",
      "source": [
        "arr2=np.array([1, 20, 25, 4, 4, 5, 4, 4, 1, 6, 9, 12, 1, 5])\n",
        "np.where(arr2==5)"
      ],
      "metadata": {
        "colab": {
          "base_uri": "https://localhost:8080/"
        },
        "id": "Umnr5ULnDSUf",
        "outputId": "1f48ef14-52cb-4a73-f215-dbd3a24e423f"
      },
      "execution_count": 93,
      "outputs": [
        {
          "output_type": "execute_result",
          "data": {
            "text/plain": [
              "(array([ 5, 13]),)"
            ]
          },
          "metadata": {},
          "execution_count": 93
        }
      ]
    },
    {
      "cell_type": "markdown",
      "source": [
        "12.Soru:\n",
        "Yukarıda oluşturduğunuz array içinde değeri çift olan değerlerin indexlerini bulun."
      ],
      "metadata": {
        "id": "Tr4p5pB6E3_i"
      }
    },
    {
      "cell_type": "code",
      "source": [
        "np.where(arr2%2==0)"
      ],
      "metadata": {
        "colab": {
          "base_uri": "https://localhost:8080/"
        },
        "id": "EPH9uPk-DcZO",
        "outputId": "fc91eb29-6e14-4b26-d212-628292527fa5"
      },
      "execution_count": 95,
      "outputs": [
        {
          "output_type": "execute_result",
          "data": {
            "text/plain": [
              "(array([ 1,  3,  4,  6,  7,  9, 11]),)"
            ]
          },
          "metadata": {},
          "execution_count": 95
        }
      ]
    },
    {
      "cell_type": "markdown",
      "source": [
        "13.Soru:\n",
        "Yukarıda oluşturduğunuz array içinde değeri 4'den büyük olan değerlerin indexlerini bulun."
      ],
      "metadata": {
        "id": "vWn5hZJHFIN6"
      }
    },
    {
      "cell_type": "code",
      "source": [
        "np.where(arr2>4)"
      ],
      "metadata": {
        "colab": {
          "base_uri": "https://localhost:8080/"
        },
        "id": "Kk2Wu_w7E9uH",
        "outputId": "7a7fb6e9-754d-41b9-eab5-4feab19d758b"
      },
      "execution_count": 96,
      "outputs": [
        {
          "output_type": "execute_result",
          "data": {
            "text/plain": [
              "(array([ 1,  2,  5,  9, 10, 11, 13]),)"
            ]
          },
          "metadata": {},
          "execution_count": 96
        }
      ]
    },
    {
      "cell_type": "markdown",
      "source": [
        "14.Soru:\n",
        "Yukarıda oluşturduğunuz array içinde değeri 5'e tam bölünen değerlerin indexlerini bulun.\n"
      ],
      "metadata": {
        "id": "KLuCv3z2FWr2"
      }
    },
    {
      "cell_type": "code",
      "source": [
        "np.where(arr2%5==0)"
      ],
      "metadata": {
        "colab": {
          "base_uri": "https://localhost:8080/"
        },
        "id": "O1lCjZwrFSLk",
        "outputId": "3d42c6f0-9ecb-4978-8ee8-0204a5a3a8d9"
      },
      "execution_count": 97,
      "outputs": [
        {
          "output_type": "execute_result",
          "data": {
            "text/plain": [
              "(array([ 1,  2,  5, 13]),)"
            ]
          },
          "metadata": {},
          "execution_count": 97
        }
      ]
    },
    {
      "cell_type": "markdown",
      "source": [
        "15.Soru:\n",
        "85-100(100 dahil) arasından rastgele 1 tam sayı seçin"
      ],
      "metadata": {
        "id": "6OCg9YUTFr6B"
      }
    },
    {
      "cell_type": "code",
      "source": [
        "arr3=np.random.randint(85,101,1)\n",
        "arr3"
      ],
      "metadata": {
        "colab": {
          "base_uri": "https://localhost:8080/"
        },
        "id": "oG_FSCS5FpBT",
        "outputId": "4c288bc6-e2b2-44c3-a4e8-b7412878c3c7"
      },
      "execution_count": 98,
      "outputs": [
        {
          "output_type": "execute_result",
          "data": {
            "text/plain": [
              "array([93])"
            ]
          },
          "metadata": {},
          "execution_count": 98
        }
      ]
    },
    {
      "cell_type": "markdown",
      "source": [
        "16.Soru\n",
        "İki basamaklı tam sayılar arasından rastgele sayılar seçerek (3,3) shape'inde bir array oluşturun."
      ],
      "metadata": {
        "id": "1wMe2UqXF4P-"
      }
    },
    {
      "cell_type": "code",
      "source": [
        "arr16=np.random.randint(10,100,size=(3,3))\n",
        "arr16"
      ],
      "metadata": {
        "colab": {
          "base_uri": "https://localhost:8080/"
        },
        "id": "HRk165ARF0o_",
        "outputId": "9d784c5d-5087-4de7-8dbc-18a9c37e01dc"
      },
      "execution_count": 103,
      "outputs": [
        {
          "output_type": "execute_result",
          "data": {
            "text/plain": [
              "array([[83, 24, 68],\n",
              "       [22, 71, 70],\n",
              "       [88, 25, 67]])"
            ]
          },
          "metadata": {},
          "execution_count": 103
        }
      ]
    },
    {
      "cell_type": "markdown",
      "source": [
        "17.Soru\n",
        "35-60 arasındaki tam sayılardan bir array oluşturun, ardından bu array içinden rastgele 1 tam sayı seçin."
      ],
      "metadata": {
        "id": "NlJZehDjGMTN"
      }
    },
    {
      "cell_type": "code",
      "source": [
        "arr17=np.random.randint(35,60,size=(2,3,4))\n",
        "arr17"
      ],
      "metadata": {
        "colab": {
          "base_uri": "https://localhost:8080/"
        },
        "id": "9xBS9rSuGBA4",
        "outputId": "46204786-cf0c-4d13-840c-1ed309d224f0"
      },
      "execution_count": 109,
      "outputs": [
        {
          "output_type": "execute_result",
          "data": {
            "text/plain": [
              "array([[[44, 50, 38, 45],\n",
              "        [39, 59, 53, 40],\n",
              "        [58, 38, 40, 56]],\n",
              "\n",
              "       [[50, 55, 58, 49],\n",
              "        [53, 36, 51, 47],\n",
              "        [43, 38, 36, 58]]])"
            ]
          },
          "metadata": {},
          "execution_count": 109
        }
      ]
    },
    {
      "cell_type": "code",
      "source": [
        "arr17[1,2,2]"
      ],
      "metadata": {
        "colab": {
          "base_uri": "https://localhost:8080/"
        },
        "id": "jSpRaBLMGXmH",
        "outputId": "c07f8748-21b4-4d21-97a6-d1695e706fdb"
      },
      "execution_count": 111,
      "outputs": [
        {
          "output_type": "execute_result",
          "data": {
            "text/plain": [
              "36"
            ]
          },
          "metadata": {},
          "execution_count": 111
        }
      ]
    },
    {
      "cell_type": "markdown",
      "source": [
        "18.soru:\n",
        "Sadece [3, 8, 10, 53] değerlerinden oluşan (2,5) shape'inde 2 boyutlu bir array oluşturun.\n"
      ],
      "metadata": {
        "id": "_7Y0558zHoxc"
      }
    },
    {
      "cell_type": "code",
      "source": [
        "arr18=np.array( [3, 8, 10, 53,3, 8, 10, 53,3, 8]).reshape(2,5)\n",
        "arr18\n"
      ],
      "metadata": {
        "colab": {
          "base_uri": "https://localhost:8080/"
        },
        "id": "tNoOoGCcHNV_",
        "outputId": "ff7c5759-86e9-41b2-dbb3-025d56849dc3"
      },
      "execution_count": 114,
      "outputs": [
        {
          "output_type": "execute_result",
          "data": {
            "text/plain": [
              "array([[ 3,  8, 10, 53,  3],\n",
              "       [ 8, 10, 53,  3,  8]])"
            ]
          },
          "metadata": {},
          "execution_count": 114
        }
      ]
    },
    {
      "cell_type": "code",
      "source": [],
      "metadata": {
        "id": "_LoTPsTSHwUs"
      },
      "execution_count": null,
      "outputs": []
    }
  ]
}